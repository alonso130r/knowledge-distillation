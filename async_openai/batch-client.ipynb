{
 "cells": [
  {
   "cell_type": "code",
   "execution_count": 18,
   "metadata": {},
   "outputs": [],
   "source": [
    "import openai\n",
    "from dotenv import load_dotenv\n",
    "load_dotenv()\n",
    "import os\n",
    "from pathlib import Path\n",
    "import jsonlines"
   ]
  },
  {
   "cell_type": "code",
   "execution_count": 19,
   "metadata": {},
   "outputs": [],
   "source": [
    "client = openai.OpenAI()\n"
   ]
  },
  {
   "cell_type": "code",
   "execution_count": 20,
   "metadata": {},
   "outputs": [
    {
     "data": {
      "text/plain": [
       "Model(id='dall-e-3', created=1698785189, object='model', owned_by='system')"
      ]
     },
     "execution_count": 20,
     "metadata": {},
     "output_type": "execute_result"
    }
   ],
   "source": [
    "client.models.list().data[0]"
   ]
  },
  {
   "cell_type": "code",
   "execution_count": 21,
   "metadata": {},
   "outputs": [],
   "source": [
    "def batch_file(batch_name : str, model: str, messages: list[list[dict]], client: openai.Client, max_tokens : int = None):\n",
    "    '''\n",
    "    Parameters\n",
    "    ----------\n",
    "    batch_name : str\n",
    "        Should be a unique batch name, which will be used for the json file name and custom request id in the batch file. \n",
    "    model : str\n",
    "        Must be an OpenAI model id. Raises ValueError if it is not found in the OpenAI models. \n",
    "    messages : list[dict]\n",
    "        List of messages, according to the OpenAI specification. Raises KeyError if a message does not follow the correct format. Ex (one element of the list) : {'messages' : [{'role': 'system', 'content': 'You are a helpful assistant'}, {'role': 'user','content': 'Derive the quadratic formula.'}]}\n",
    "    client : openai.Client\n",
    "        Synchronus OpenAI client, must be activated with API_Key. \n",
    "    \n",
    "    Returns\n",
    "    -------\n",
    "    filename : str\n",
    "        The path\n",
    "    \n",
    "    '''\n",
    "    models = [model.id for model in client.models.list().data]\n",
    "    if model not in models:\n",
    "        raise ValueError(f'The model inputted ({model}) was not found in the list of models. Must be one of the following: {', '.join(models)}')\n",
    "    reqs = []\n",
    "    for i, msg in enumerate(messages):\n",
    "        custom_id = f'{batch_name}_{i}'\n",
    "        method = 'POST'\n",
    "        url = '/v1/chat/completions'\n",
    "        body = {\n",
    "            'model' : model,\n",
    "            'messages' : msg['messages'],\n",
    "        }\n",
    "        if msg['messages'][0]['role'] != 'system':\n",
    "            raise KeyError(f'Message {i} did not follow the correct format, as it lacked a system prompt. This was the message: {msg[\"messages\"]}. Please correct it, see examples in the function documentation.')\n",
    "        if msg['messages'][1]['role'] != 'user':\n",
    "            raise KeyError(f'Message {i} did not follow the correct format, as it lacked a user prompt. This was the message: {msg[\"messages\"]}. Please correct it, see examples in the function documentation.')\n",
    "        if not (msg['messages'][0]['content'] or msg['messages'][1]['content']):\n",
    "            raise KeyError(f'Message {i} did not follow the correct format, as the prompt was entirely empty. This was the message: {msg[\"messages\"]}. Please correct it, see examples in the function documentation.')\n",
    "        if max_tokens:\n",
    "            body['max_tokens'] = max_tokens\n",
    "        reqs.append({\n",
    "            'custom_id' : custom_id,\n",
    "            'method' : method,\n",
    "            'url' : url,\n",
    "            'body' : body,\n",
    "            })\n",
    "    \n",
    "    with jsonlines.open(f'{batch_name}.jsonl', mode='w') as writer:\n",
    "        writer.write_all(reqs)\n",
    "    return f'{batch_name}.jsonl'\n",
    "        \n",
    "    \n",
    "    "
   ]
  },
  {
   "cell_type": "code",
   "execution_count": null,
   "metadata": {},
   "outputs": [],
   "source": [
    "def submit_batch(client: openai.OpenAI, file_path : Path):\n",
    "    \n",
    "    client.files.create(file=open(file_path), purpose='batch')\n",
    "    client.batches.create(completion_window='24h', endpoint='/v1/chat/completions', )"
   ]
  },
  {
   "cell_type": "code",
   "execution_count": 22,
   "metadata": {},
   "outputs": [
    {
     "data": {
      "text/plain": [
       "'testing1.jsonl'"
      ]
     },
     "execution_count": 22,
     "metadata": {},
     "output_type": "execute_result"
    }
   ],
   "source": [
    "batch_file(batch_name='testing1', model='gpt-3.5-turbo', messages=[{\"messages\": [{\"role\": \"system\", \"content\": \"You are a helpful assistant.\"},{\"role\": \"user\", \"content\": \"Hello world!\"}]}], client=client)"
   ]
  },
  {
   "cell_type": "code",
   "execution_count": 17,
   "metadata": {},
   "outputs": [
    {
     "data": {
      "text/plain": [
       "{'model': 'gpt-3.5-turbo-0125',\n",
       " 'messages': [{'role': 'system', 'content': 'You are a helpful assistant.'},\n",
       "  {'role': 'user', 'content': 'Hello world!'}],\n",
       " 'max_tokens': 1000}"
      ]
     },
     "execution_count": 17,
     "metadata": {},
     "output_type": "execute_result"
    }
   ],
   "source": [
    "{\"custom_id\": \"request-1\", \"method\": \"POST\", \"url\": \"/v1/chat/completions\", \"body\": {\"model\": \"gpt-3.5-turbo-0125\", ,\"max_tokens\": 1000}}['body']"
   ]
  },
  {
   "cell_type": "code",
   "execution_count": null,
   "metadata": {},
   "outputs": [],
   "source": []
  }
 ],
 "metadata": {
  "kernelspec": {
   "display_name": "algoverse_knodistill",
   "language": "python",
   "name": "python3"
  },
  "language_info": {
   "codemirror_mode": {
    "name": "ipython",
    "version": 3
   },
   "file_extension": ".py",
   "mimetype": "text/x-python",
   "name": "python",
   "nbconvert_exporter": "python",
   "pygments_lexer": "ipython3",
   "version": "3.12.4"
  }
 },
 "nbformat": 4,
 "nbformat_minor": 2
}
