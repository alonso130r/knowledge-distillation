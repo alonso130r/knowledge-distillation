{
 "cells": [
  {
   "cell_type": "code",
   "execution_count": 8,
   "metadata": {},
   "outputs": [],
   "source": [
    "import openai\n",
    "import torch\n",
    "import os\n",
    "from dotenv import load_dotenv\n",
    "from openai import OpenAI\n",
    "\n",
    "device = 'cuda' if torch.cuda.is_available() else 'cpu'"
   ]
  },
  {
   "cell_type": "code",
   "execution_count": 9,
   "metadata": {},
   "outputs": [],
   "source": [
    "# safe load keys\n",
    "load_dotenv()\n",
    "api_key = os.environ.get('OPENAI_KEY')\n",
    "organization = os.environ.get('ORGANIZATION')\n"
   ]
  },
  {
   "cell_type": "code",
   "execution_count": 10,
   "metadata": {},
   "outputs": [],
   "source": [
    "# connect using keys\n",
    "client = OpenAI(api_key=api_key, organization=organization)"
   ]
  },
  {
   "cell_type": "code",
   "execution_count": 12,
   "metadata": {},
   "outputs": [
    {
     "name": "stdout",
     "output_type": "stream",
     "text": [
      "The quadratic formula is derived by solving a general quadratic equation of the form ax^2 + bx +c = 0 for the variable x. \n",
      "\n",
      "Starting with the quadratic equation: ax^2 + bx + c = 0, we can begin by dividing by a to simplify the equation: \n",
      "\n",
      "x^2 + (b/a)x + c/a = 0\n",
      "\n",
      "Next, we complete the square by adding and subtracting (b/2a)^2 inside the parentheses:\n",
      "\n",
      "x^2 + (b/a)x + (b/2a)^2 - (b/2a)^2 + c/a = 0\n",
      "\n",
      "Simplifying, we get:\n",
      "\n",
      "(x + b/2a)^2 = (b^2 - 4ac) / (4a^2)\n",
      "\n",
      "Taking the square root of both sides:\n",
      "\n",
      "x + b/2a = ± √(b^2 - 4ac) / (2a)\n",
      "\n",
      "And finally isolating x to get the quadratic formula:\n",
      "\n",
      "x = (-b ± √(b^2 - 4ac)) / 2a\n",
      "\n",
      "Therefore, the quadratic formula is x = (-b ± √(b^2 - 4ac)) / 2a."
     ]
    }
   ],
   "source": [
    "# stream text response to see everything the model creates instantly\n",
    "stream = client.chat.completions.create(\n",
    "    model=\"gpt-3.5-turbo\",\n",
    "    messages=[{\"role\": \"user\", \"content\": \"derive the quadratic formula for me.\"}],\n",
    "    stream=True, # use stream for text gen\n",
    ")\n",
    "for chunk in stream:\n",
    "    if chunk.choices[0].delta.content is not None:\n",
    "        print(chunk.choices[0].delta.content, end=\"\")"
   ]
  }
 ],
 "metadata": {
  "kernelspec": {
   "display_name": "Python 3",
   "language": "python",
   "name": "python3"
  },
  "language_info": {
   "codemirror_mode": {
    "name": "ipython",
    "version": 3
   },
   "file_extension": ".py",
   "mimetype": "text/x-python",
   "name": "python",
   "nbconvert_exporter": "python",
   "pygments_lexer": "ipython3",
   "version": "3.11.5"
  }
 },
 "nbformat": 4,
 "nbformat_minor": 2
}
