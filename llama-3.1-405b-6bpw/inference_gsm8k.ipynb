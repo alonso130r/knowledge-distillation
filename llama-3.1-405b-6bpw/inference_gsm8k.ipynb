{
 "cells": [
  {
   "cell_type": "code",
   "execution_count": null,
   "metadata": {},
   "outputs": [],
   "source": [
    "%pip install transformers datasets\n",
    "%pip install https://github.com/turboderp/exllamav2/releases/download/v0.1.8/exllamav2-0.1.8+cu121.torch2.4.0-cp311-cp311-linux_x86_64.whl"
   ]
  },
  {
   "cell_type": "code",
   "execution_count": null,
   "metadata": {},
   "outputs": [],
   "source": [
    "from exllamav2 import ExLlamaV2, ExLlamaV2Config, ExLlamaV2Tokenizer, ExLlamaV2Cache_Q6\n",
    "import torch\n",
    "from safetensors.torch import save_file\n",
    "from datasets import load_dataset\n",
    "from typing import List\n",
    "import gc\n",
    "from tqdm.notebook import tqdm\n",
    "\n",
    "device = torch.device(\"cuda\" if torch.cuda.is_available() else \"mps\" if torch.backends.mps.is_available() else \"cpu\")\n",
    "num_gpus = torch.cuda.device_count()\n",
    "print(device)"
   ]
  },
  {
   "cell_type": "code",
   "execution_count": null,
   "metadata": {},
   "outputs": [],
   "source": [
    "# test gpu-gpu access\n",
    "for i in range(num_gpus):\n",
    "        for j in range(num_gpus):\n",
    "            if i != j:\n",
    "                can_access = torch.cuda.can_device_access_peer(i, j)\n",
    "                print(f\"GPU {i} can access GPU {j}: {can_access}\")"
   ]
  },
  {
   "cell_type": "code",
   "execution_count": null,
   "metadata": {},
   "outputs": [],
   "source": [
    "# load and prepare model for generation\n",
    "config = ExLlamaV2Config()\n",
    "config.model_dir = \"./llama-405b/models--ek826--Meta-Llama-3.1-405B-Instruct-6.0bpw-exl2/snapshots/c3aafe6600c3c081f514e33ea325da7a19cb1822\"\n",
    "config.prepare()\n",
    "model = ExLlamaV2(config)\n",
    "tokenizer = ExLlamaV2Tokenizer(config)\n",
    "\n",
    "# 6-bit cache chosen due to only having 4 96gb H100s (376gb VRAM total)\n",
    "cache = ExLlamaV2Cache_Q6(model, lazy = True)\n",
    "model.load_autosplit(cache)"
   ]
  },
  {
   "cell_type": "code",
   "execution_count": 3,
   "metadata": {},
   "outputs": [],
   "source": [
    "# load GSM8K and grab first 2638 questions only\n",
    "ds = load_dataset(\"openai/gsm8k\", \"main\", split=\"train\")\n",
    "questions = ds[\"question\"]\n",
    "questions = questions[:2638]"
   ]
  },
  {
   "cell_type": "code",
   "execution_count": 4,
   "metadata": {},
   "outputs": [],
   "source": [
    "# generate logit for an input sequence\n",
    "def get_logits(inputs : str) -> torch.tensor:\n",
    "    inputs = tokenizer.encode(inputs)\n",
    "\n",
    "    with torch.no_grad():\n",
    "        outputs = model.forward(inputs)\n",
    "\n",
    "    # mem management to ensure no VRAM overflow\n",
    "    gc.collect()\n",
    "    torch.cuda.empty_cache()\n",
    "    \n",
    "    return outputs"
   ]
  },
  {
   "cell_type": "code",
   "execution_count": 5,
   "metadata": {},
   "outputs": [],
   "source": [
    "# save list of logits to disk\n",
    "def save_logits(logits : List[torch.tensor], ) -> None:\n",
    "    data = {}\n",
    "    for i, logit in enumerate(logits):\n",
    "        data[f\"Question {i+1}\"] = logit.to('cpu')\n",
    "\n",
    "    save_file(data, \"llama-3.1-405b-gsm8k-teacher-prompt-tensors.safetensors\")"
   ]
  },
  {
   "cell_type": "code",
   "execution_count": null,
   "metadata": {
    "editable": true,
    "slideshow": {
     "slide_type": ""
    },
    "tags": []
   },
   "outputs": [],
   "source": [
    "# get and save logits + move them off VRAM after generation\n",
    "logits = [get_logits(question).to('cpu') for question in tqdm(questions)]\n",
    "save_logits(logits)"
   ]
  }
 ],
 "metadata": {
  "kernelspec": {
   "display_name": "Python 3 (ipykernel)",
   "language": "python",
   "name": "python3"
  },
  "language_info": {
   "codemirror_mode": {
    "name": "ipython",
    "version": 3
   },
   "file_extension": ".py",
   "mimetype": "text/x-python",
   "name": "python",
   "nbconvert_exporter": "python",
   "pygments_lexer": "ipython3",
   "version": "3.11.9"
  }
 },
 "nbformat": 4,
 "nbformat_minor": 4
}
