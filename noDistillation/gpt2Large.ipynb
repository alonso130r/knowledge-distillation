{
 "cells": [
  {
   "cell_type": "code",
   "execution_count": 11,
   "metadata": {},
   "outputs": [],
   "source": [
    "from transformers import AutoTokenizer, AutoModelForCausalLM\n",
    "from torch.utils.data import DataLoader, Dataset\n",
    "import torch\n",
    "import pandas as pd\n",
    "import re\n",
    "\n",
    "\n",
    "device = torch.device(\"cuda\" if torch.cuda.is_available() else \"mps\" if torch.mpstorch.backends.mps.is_available() else \"cpu\")\n",
    "datapath = \"../data/24.csv\"\n",
    "instructions = \"Using only basic arithmetic operations (BEDMAS, excluding exponents), solve the following puzzle using the numbers provided to get the result 24\""
   ]
  },
  {
   "cell_type": "code",
   "execution_count": 2,
   "metadata": {},
   "outputs": [],
   "source": [
    "# student model\n",
    "student_tokenizer = AutoTokenizer.from_pretrained(\"openai-community/gpt2-large\")\n",
    "student_model = AutoModelForCausalLM.from_pretrained(\"openai-community/gpt2-large\")"
   ]
  },
  {
   "cell_type": "code",
   "execution_count": 4,
   "metadata": {},
   "outputs": [],
   "source": [
    "df = pd.read_csv(datapath)\n"
   ]
  },
  {
   "cell_type": "code",
   "execution_count": 5,
   "metadata": {},
   "outputs": [],
   "source": [
    "puzzles = df['Puzzles'].tolist()"
   ]
  },
  {
   "cell_type": "code",
   "execution_count": 7,
   "metadata": {},
   "outputs": [],
   "source": [
    "class Game24Dataset(Dataset):\n",
    "    def __init__(self, puzzles, tokenizer, instructions, max_length=512):\n",
    "        self.puzzles = puzzles\n",
    "        self.tokenizer = tokenizer\n",
    "        self.max_length = max_length\n",
    "        self.instructions = instructions\n",
    "\n",
    "    def __len__(self):\n",
    "        return len(self.puzzles)\n",
    "\n",
    "    def __getitem__(self, idx):\n",
    "        puzzle = self.puzzles[idx]\n",
    "        prompt = f\"{self.instructions}: {puzzle}\"\n",
    "        encoding = self.tokenizer(\n",
    "            prompt,\n",
    "            add_special_tokens=True,\n",
    "            truncation=True,\n",
    "            max_length=self.max_length,\n",
    "            padding='max_length',\n",
    "            return_tensors='pt'\n",
    "        )\n",
    "        input_ids = encoding['input_ids'].squeeze()\n",
    "        attention_mask = encoding['attention_mask'].squeeze()\n",
    "        return {\n",
    "            'input_ids': input_ids,\n",
    "            'attention_mask': attention_mask,\n",
    "            'labels': input_ids\n",
    "        }\n"
   ]
  },
  {
   "cell_type": "code",
   "execution_count": 12,
   "metadata": {},
   "outputs": [],
   "source": [
    "# prototype of a loss function\n",
    "\n",
    "def enhanced_loss_function(outputs, puzzles, tokenizer):\n",
    "    total_loss = 0\n",
    "    batch_size = len(puzzles)\n",
    "    \n",
    "    for i in range(batch_size):\n",
    "        solution = tokenizer.decode(outputs[i], skip_special_tokens=True)\n",
    "        puzzle = puzzles[i]\n",
    "        \n",
    "        # Check for correctness\n",
    "        correct, partial_loss = evaluate_solution(solution, puzzle)\n",
    "        \n",
    "        total_loss += partial_loss if not correct else 0\n",
    "    \n",
    "    return total_loss / batch_size\n",
    "\n",
    "def evaluate_solution(solution, puzzle):\n",
    "   # Extract numbers and operators from the solution\n",
    "    numbers = re.findall(r'\\d+', solution)\n",
    "    operators_and_brackets = re.findall(r'[+\\-*/()]', solution)\n",
    "    \n",
    "    # Ensure the numbers used are exactly the ones in the puzzle\n",
    "    puzzle_numbers = sorted(puzzle.split())\n",
    "    solution_numbers = sorted(numbers)\n",
    "    \n",
    "    # Calculate a partial loss based on the incorrect use of numbers\n",
    "    partial_loss = len(set(puzzle_numbers) - set(solution_numbers)) / len(puzzle_numbers)\n",
    "    \n",
    "    if puzzle_numbers != solution_numbers:\n",
    "        return False, 1 + partial_loss\n",
    "    \n",
    "    # Check if valid operators and brackets are used\n",
    "    valid_operators = set('+-*/')\n",
    "    valid_brackets = set('()')\n",
    "    invalid_chars = [char for char in operators_and_brackets if char not in valid_operators and char not in valid_brackets]\n",
    "    \n",
    "    if invalid_chars:\n",
    "        partial_loss += 0.5  # Arbitrary penalty for invalid operators or brackets\n",
    "    \n",
    "    # Check for balanced brackets\n",
    "    if not are_brackets_balanced(solution):\n",
    "        partial_loss += 0.5  # Arbitrary penalty for unbalanced brackets\n",
    "    \n",
    "    # Evaluate the expression\n",
    "    try:\n",
    "        result = eval(solution)\n",
    "        if result == 24:\n",
    "            return True, 0\n",
    "        else:\n",
    "            return False, abs(24 - result) / 24 + partial_loss\n",
    "    except Exception as e:\n",
    "        print(f\"Error evaluating solution: {e}\")\n",
    "        return False, 1 + partial_loss \n",
    "\n",
    "def are_brackets_balanced(expression):\n",
    "    stack = []\n",
    "    brackets = {'(': ')'}\n",
    "    \n",
    "    for char in expression:\n",
    "        if char in brackets.keys():\n",
    "            stack.append(char)\n",
    "        elif char in brackets.values():\n",
    "            if not stack or brackets[stack.pop()] != char:\n",
    "                return False\n",
    "    return not stack"
   ]
  },
  {
   "cell_type": "code",
   "execution_count": 9,
   "metadata": {},
   "outputs": [],
   "source": [
    "dataset = Game24Dataset(puzzles, student_tokenizer, instructions)"
   ]
  },
  {
   "cell_type": "code",
   "execution_count": 10,
   "metadata": {},
   "outputs": [],
   "source": [
    "dataloader = DataLoader(dataset, batch_size=8, shuffle=True)"
   ]
  },
  {
   "cell_type": "code",
   "execution_count": null,
   "metadata": {},
   "outputs": [],
   "source": []
  }
 ],
 "metadata": {
  "kernelspec": {
   "display_name": "base",
   "language": "python",
   "name": "python3"
  },
  "language_info": {
   "codemirror_mode": {
    "name": "ipython",
    "version": 3
   },
   "file_extension": ".py",
   "mimetype": "text/x-python",
   "name": "python",
   "nbconvert_exporter": "python",
   "pygments_lexer": "ipython3",
   "version": "3.11.5"
  }
 },
 "nbformat": 4,
 "nbformat_minor": 2
}
