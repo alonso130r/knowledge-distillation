{
 "cells": [
  {
   "cell_type": "code",
   "execution_count": 5,
   "id": "ae399380-7975-4363-9cbe-54608c5e5388",
   "metadata": {},
   "outputs": [
    {
     "name": "stdout",
     "output_type": "stream",
     "text": [
      "cuda\n"
     ]
    }
   ],
   "source": [
    "from transformers import AutoModelForCausalLM, AutoTokenizer\n",
    "import torch\n",
    "import torch.nn as nn\n",
    "import torch.nn.functional as F\n",
    "from torch.utils.data import DataLoader\n",
    "from datasets import load_dataset\n",
    "from tqdm.notebook import tqdm\n",
    "from safetensors.torch import safe_open\n",
    "from torch.utils.data import DataLoader\n",
    "import os\n",
    "from safetensors.torch import save_file\n",
    "from torch.nn.utils.rnn import pad_sequence\n",
    "import numpy as np\n",
    "\n",
    "device = torch.device(\"cuda\" if torch.cuda.is_available() else \"cpu\")\n",
    "print(device)"
   ]
  },
  {
   "cell_type": "code",
   "execution_count": 2,
   "id": "0cfab746-a291-49b3-86bd-4dfd737b68b8",
   "metadata": {},
   "outputs": [],
   "source": [
    "def load_list_of_logits_safetensor(file_path):\n",
    "    with safe_open(file_path, framework=\"pt\") as f:\n",
    "        logits_list = []\n",
    "        for key in f.keys():\n",
    "            logits_list.append(f.get_tensor(key))\n",
    "    \n",
    "    return logits_list"
   ]
  },
  {
   "cell_type": "code",
   "execution_count": 3,
   "id": "b52038be-e3ec-4b35-bbcb-2fad6eb4a83a",
   "metadata": {},
   "outputs": [],
   "source": [
    "logits = load_list_of_logits_safetensor(\"llama-3.1-405b-gsm8k-reverse-KL-prompt-tensors.safetensors\")"
   ]
  },
  {
   "cell_type": "code",
   "execution_count": 17,
   "id": "a8e471d6-57f9-4877-ba04-ae0e996c3f1b",
   "metadata": {},
   "outputs": [
    {
     "name": "stdout",
     "output_type": "stream",
     "text": [
      "2638\n"
     ]
    }
   ],
   "source": [
    "logits2 = load_list_of_logits_safetensor(\"llama-3.1-405b-gsm8k-base-tensors.safetensors\")\n",
    "logits2 = logits2[:2638]\n",
    "print(len(logits2))"
   ]
  },
  {
   "cell_type": "code",
   "execution_count": 8,
   "id": "ed7ab3fd-e8cb-4108-b6b7-b7fa00276033",
   "metadata": {},
   "outputs": [],
   "source": [
    "def compute_next_token_confidence(logits_list, sample_step=1):\n",
    "    confidences = []\n",
    "    # Generate indices to process based on sample_step\n",
    "    indices_to_process = range(0, len(logits_list), sample_step)\n",
    "    # Initialize tqdm progress bar\n",
    "    for idx in tqdm(indices_to_process, desc='Processing logits'):\n",
    "        logits = logits_list[idx]\n",
    "        # Move logits to GPU\n",
    "        logits = logits.to('cuda')\n",
    "        # Apply softmax to get probabilities\n",
    "        probs = F.softmax(logits, dim=-1)\n",
    "        # Get the maximum probability at each position (confidence)\n",
    "        max_probs, _ = torch.max(probs, dim=-1)\n",
    "        # Move back to CPU and convert to numpy if needed\n",
    "        max_probs = max_probs.cpu().numpy()\n",
    "        confidences.append(max_probs)\n",
    "        # Clean up to free GPU memory\n",
    "        del logits, probs, max_probs\n",
    "        torch.cuda.empty_cache()\n",
    "    return confidences"
   ]
  },
  {
   "cell_type": "code",
   "execution_count": 12,
   "id": "07bc11ce-36c5-4fcc-9d5d-0c8faf3c5594",
   "metadata": {},
   "outputs": [],
   "source": [
    "def compute_average_confidence(confidences):\n",
    "    total_confidence = 0.0\n",
    "    total_count = 0\n",
    "    for max_probs in confidences:\n",
    "        total_confidence += np.sum(max_probs)\n",
    "        total_count += max_probs.size  # Total number of elements\n",
    "    average_confidence = total_confidence / total_count\n",
    "    return average_confidence"
   ]
  },
  {
   "cell_type": "code",
   "execution_count": 15,
   "id": "89a032cc-80b2-4a66-b4da-d5b5f6878ce1",
   "metadata": {},
   "outputs": [
    {
     "data": {
      "application/vnd.jupyter.widget-view+json": {
       "model_id": "e34377973d7942f1a2bb908647852303",
       "version_major": 2,
       "version_minor": 0
      },
      "text/plain": [
       "Processing logits:   0%|          | 0/528 [00:00<?, ?it/s]"
      ]
     },
     "metadata": {},
     "output_type": "display_data"
    }
   ],
   "source": [
    "confidences = compute_next_token_confidence(logits, 5)"
   ]
  },
  {
   "cell_type": "code",
   "execution_count": 16,
   "id": "2496e686-80d9-45ec-b8ac-88bdabf57e56",
   "metadata": {},
   "outputs": [
    {
     "name": "stdout",
     "output_type": "stream",
     "text": [
      "0.5205\n"
     ]
    }
   ],
   "source": [
    "confidence = compute_average_confidence(confidences)\n",
    "print(confidence)"
   ]
  },
  {
   "cell_type": "code",
   "execution_count": 18,
   "id": "e106a656-663b-438a-ba31-8929fc7590d7",
   "metadata": {},
   "outputs": [
    {
     "data": {
      "application/vnd.jupyter.widget-view+json": {
       "model_id": "77e3eb5cb19a40e28c52e4cb4c0e1436",
       "version_major": 2,
       "version_minor": 0
      },
      "text/plain": [
       "Processing logits:   0%|          | 0/528 [00:00<?, ?it/s]"
      ]
     },
     "metadata": {},
     "output_type": "display_data"
    }
   ],
   "source": [
    "confidences2 = compute_next_token_confidence(logits2, 5)"
   ]
  },
  {
   "cell_type": "code",
   "execution_count": 19,
   "id": "39f5b0ab-1235-4233-b0bc-10243ab85301",
   "metadata": {},
   "outputs": [
    {
     "name": "stdout",
     "output_type": "stream",
     "text": [
      "0.573\n"
     ]
    }
   ],
   "source": [
    "confidence2 = compute_average_confidence(confidences2)\n",
    "print(confidence2)"
   ]
  }
 ],
 "metadata": {
  "kernelspec": {
   "display_name": "Python 3 (ipykernel)",
   "language": "python",
   "name": "python3"
  },
  "language_info": {
   "codemirror_mode": {
    "name": "ipython",
    "version": 3
   },
   "file_extension": ".py",
   "mimetype": "text/x-python",
   "name": "python",
   "nbconvert_exporter": "python",
   "pygments_lexer": "ipython3",
   "version": "3.11.9"
  }
 },
 "nbformat": 4,
 "nbformat_minor": 5
}
