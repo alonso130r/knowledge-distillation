{
 "cells": [
  {
   "cell_type": "code",
   "execution_count": 9,
   "metadata": {},
   "outputs": [],
   "source": [
    "import pandas as pd\n",
    "from pathlib import Path"
   ]
  },
  {
   "cell_type": "code",
   "execution_count": 16,
   "metadata": {},
   "outputs": [],
   "source": [
    "model = 'gemma2-2b-it'\n",
    "dist_folder = 'no-distil-test'\n",
    "filename = 'FINAL_Completed(0 - 1319).csv'"
   ]
  },
  {
   "cell_type": "code",
   "execution_count": 17,
   "metadata": {},
   "outputs": [],
   "source": [
    "basepath = (Path() / '..' /'..'/ 'logs' / model / dist_folder).resolve()"
   ]
  },
  {
   "cell_type": "code",
   "execution_count": 18,
   "metadata": {},
   "outputs": [],
   "source": [
    "df = pd.read_csv(basepath / filename)"
   ]
  },
  {
   "cell_type": "code",
   "execution_count": 19,
   "metadata": {},
   "outputs": [],
   "source": [
    "ex_df = pd.read_csv((Path() / '..' / '..' / 'logs' / 'gemma2b-it' / dist_folder / 'FINAL_RESULTS.csv').resolve())"
   ]
  },
  {
   "cell_type": "code",
   "execution_count": 20,
   "metadata": {},
   "outputs": [],
   "source": [
    "df['extracted_answer'] = ex_df['extracted_answer']"
   ]
  },
  {
   "cell_type": "code",
   "execution_count": 7,
   "metadata": {},
   "outputs": [],
   "source": [
    "for i, row in df.iterrows():\n",
    "    df.loc[i, 'model_answer'] = row['model_answer'].removeprefix(row['question'])\n",
    "    df.loc[i, 'model_answer'] = df.loc[i, 'model_answer'].removeprefix('\\n Please respond with just the answer. The answer is: ')\n",
    "    # df.loc[i, 'extracted_answer'] = row['answer'].split('####')[1].strip()"
   ]
  },
  {
   "cell_type": "code",
   "execution_count": 8,
   "metadata": {},
   "outputs": [],
   "source": [
    "import re\n",
    "df['model_ex1'] = df['model_answer']\n",
    "for i, row in df.iterrows():\n",
    "    extr = re.findall(r'[-+]?[$]?([,\\d]+\\.?[,\\d]*)\\%?(\\ |$|\\n){1}', row['model_answer'])\n",
    "    if len(extr) != 1:  \n",
    "        df.loc[i, 'model_ex1_t'] = type(df['model_ex1'][i])\n",
    "        continue\n",
    "    v = re.sub(r',', '', extr[0][0])\n",
    "    try:\n",
    "        df.loc[i, 'model_ex1'] = float(v)\n",
    "    except:\n",
    "        df.loc[i, 'model_ex1'] = v\n",
    "    df.loc[i, 'model_ex1_t'] = type(df['model_ex1'][i])"
   ]
  },
  {
   "cell_type": "code",
   "execution_count": 10,
   "metadata": {},
   "outputs": [
    {
     "data": {
      "text/plain": [
       "model_ex1_t\n",
       "<class 'float'>    1284\n",
       "<class 'str'>        35\n",
       "Name: count, dtype: int64"
      ]
     },
     "execution_count": 10,
     "metadata": {},
     "output_type": "execute_result"
    }
   ],
   "source": [
    "df['model_ex1_t'].value_counts()"
   ]
  },
  {
   "cell_type": "code",
   "execution_count": 11,
   "metadata": {},
   "outputs": [],
   "source": [
    "def save_df(df : pd.DataFrame, model : str, dist_folder : str, edition : str):\n",
    "    base_path = Path()\n",
    "    base_path = base_path / '..' /'..'/ 'logs' / model / dist_folder / f'{edition}.csv'\n",
    "    df.to_csv(base_path)"
   ]
  },
  {
   "cell_type": "code",
   "execution_count": null,
   "metadata": {},
   "outputs": [],
   "source": [
    "df_false = df[df['model_ex1_t'] == str]\n",
    "df_false['model_ex1'].head(10)"
   ]
  },
  {
   "cell_type": "code",
   "execution_count": 13,
   "metadata": {},
   "outputs": [
    {
     "name": "stdout",
     "output_type": "stream",
     "text": [
      "95 could not be parsed\n",
      "171 could not be parsed\n",
      "243 could not be parsed\n",
      "429 could not be parsed\n",
      "464 could not be parsed\n",
      "489 could not be parsed\n",
      "505 could not be parsed\n",
      "509 could not be parsed\n",
      "593 could not be parsed\n",
      "649 could not be parsed\n",
      "726 could not be parsed\n",
      "744 could not be parsed\n",
      "753 could not be parsed\n",
      "844 could not be parsed\n",
      "1017 could not be parsed\n",
      "1094 could not be parsed\n",
      "1159 could not be parsed\n",
      "1200 could not be parsed\n"
     ]
    }
   ],
   "source": [
    "\n",
    "for i, row in df[df['model_ex1_t'] != float].iterrows():\n",
    "    inp = input(f'{i} : What is the extracted answer : {row[\"model_ex1\"]}')\n",
    "    try:\n",
    "        df.loc[i, 'model_ex1'] = float(inp)\n",
    "    except:\n",
    "        print(f'{i} could not be parsed')"
   ]
  },
  {
   "cell_type": "code",
   "execution_count": 14,
   "metadata": {},
   "outputs": [],
   "source": [
    "for i, row in df.iterrows():\n",
    "    df.loc[i, 'model_ex1_t'] = type(row['model_ex1'])\n"
   ]
  },
  {
   "cell_type": "code",
   "execution_count": 18,
   "metadata": {},
   "outputs": [],
   "source": [
    "df['re_query'] = False\n",
    "for i, row in df[df['model_ex1_t'] != float].iterrows():\n",
    "    if not row['model_answer']:\n",
    "        df.loc[i, 're_query'] = True\n",
    "    else:\n",
    "        inp = input(f'Should this be re-queried: {row['model_answer']}')\n",
    "        if not inp:\n",
    "            df.loc[i, 're_query'] = True\n",
    "        else:\n",
    "            df.loc[i, 're_query'] = False\n",
    "    "
   ]
  },
  {
   "cell_type": "code",
   "execution_count": 20,
   "metadata": {},
   "outputs": [],
   "source": [
    "for i, row in df[df['model_ex1_t'] != float].iterrows():\n",
    "    if not row['re_query']:\n",
    "        inp = input(f'{i} : What is the extracted answer : {row[\"model_ex1\"]}. QUESTION: {row['question']}. IDEAL_ANSWER: {row['extracted_answer']}')\n",
    "        try:\n",
    "            df.loc[i, 'model_ex1'] = float(inp)\n",
    "        except:\n",
    "            print(f'{i} could not be parsed')"
   ]
  },
  {
   "cell_type": "code",
   "execution_count": 22,
   "metadata": {},
   "outputs": [
    {
     "data": {
      "text/plain": [
       "Index([95, 171, 243, 429, 464, 489, 505, 593, 726, 1094, 1159, 1200], dtype='int64')"
      ]
     },
     "execution_count": 22,
     "metadata": {},
     "output_type": "execute_result"
    }
   ],
   "source": [
    "df[df['re_query'] == True].index"
   ]
  },
  {
   "cell_type": "code",
   "execution_count": 15,
   "metadata": {},
   "outputs": [
    {
     "name": "stdout",
     "output_type": "stream",
     "text": [
      "Model Answer: \n",
      " \n",
      " \n",
      " \n",
      " \n",
      " \n",
      " \n",
      " \n",
      " \n",
      " \n",
      " \n",
      " \n",
      " \n",
      " \n",
      " \n",
      " \n",
      " \n",
      " \n",
      " \n",
      " \n",
      " \n",
      " \n",
      " \n",
      " \n",
      " \n",
      "\n",
      "True Answer: There are 200 x 2/5 = <<200*2/5=80>>80 boys in Grade 5.\n",
      "So, 200 - 80 = <<200-80=120>>120 are girls.\n",
      "Out of the 120 girls, 120 x 2/3 = <<120*2/3=80>>80 are in the girl scout.\n",
      "Therefore, 120 - 80 = <<120-80=40>>40 girls are not in the girl scout.\n",
      "#### 40\n",
      "Question: Out of the 200 Grade 5 students, 2/5 are boys and 2/3 of the girls are in the girl scout. How many girls are not in the girl scout?\n",
      "\n",
      "95 could not be parsed\n",
      "Model Answer: \n",
      " \n",
      " 80 * 8 + 90 * 6 + 3 * 10 = \n",
      " \n",
      " \n",
      " \n",
      " \n",
      " \n",
      " \n",
      " \n",
      " \n",
      " \n",
      " \n",
      " \n",
      " \n",
      "True Answer: First find the total number of spider legs: 80 spiders * 8 legs/spider = <<80*8=640>>640 legs\n",
      "Then find the total number of insect legs: 90 spiders * 6 legs/spider = <<90*6=540>>540 legs\n",
      "Then find the total number of mutant invertebrate legs: 3 mutants * 10 legs/mutant = <<3*10=30>>30 legs\n",
      "Then add the number of each kind of leg to find the total he saw: 640 legs + 540 legs + 30 legs = <<640+540+30=1210>>1210 legs\n",
      "#### 1210\n",
      "Question: Jake is walking through the Museum of Entomology. He sees 80 spiders with 8 legs each, 90 insects with 6 legs each, and 3 rare mutant invertebrates with 10 legs each. How many legs does Jake see total?\n",
      "\n",
      "171 could not be parsed\n",
      "Model Answer: \n",
      " \n",
      " 1000 - 15 * 30 + 300 = \n",
      " \n",
      " \n",
      " \n",
      " \n",
      " \n",
      " \n",
      " \n",
      " \n",
      " \n",
      " \n",
      " \n",
      " \n",
      " \n",
      "True Answer: First find the total time Jason spends calling his boss: 15 minutes/call * 30 calls/month = <<15*30=450>>450 minutes\n",
      "Then subtract the minutes Jason has already used to find how many he has left: 1000 minutes - 450 minutes - 300 minutes = <<1000-450-300=250>>250 minutes\n",
      "#### 250\n",
      "Question: Jason has a phone plan of 1000 minutes per month. Every day he has a 15-minute call with his boss, and he's had 300 extra minutes of call this month to other people. How many minutes does Jason have left if this month has 30 days?\n",
      "\n"
     ]
    },
    {
     "ename": "KeyboardInterrupt",
     "evalue": "Interrupted by user",
     "output_type": "error",
     "traceback": [
      "\u001b[0;31m---------------------------------------------------------------------------\u001b[0m",
      "\u001b[0;31mKeyboardInterrupt\u001b[0m                         Traceback (most recent call last)",
      "Cell \u001b[0;32mIn[15], line 6\u001b[0m\n\u001b[1;32m      4\u001b[0m \u001b[38;5;28mprint\u001b[39m(\u001b[38;5;124mf\u001b[39m\u001b[38;5;124m'\u001b[39m\u001b[38;5;124mQuestion: \u001b[39m\u001b[38;5;132;01m{\u001b[39;00mrow[\u001b[38;5;124m'\u001b[39m\u001b[38;5;124mquestion\u001b[39m\u001b[38;5;124m'\u001b[39m]\u001b[38;5;132;01m}\u001b[39;00m\u001b[38;5;124m'\u001b[39m)\n\u001b[1;32m      5\u001b[0m \u001b[38;5;28mprint\u001b[39m()\n\u001b[0;32m----> 6\u001b[0m inp \u001b[38;5;241m=\u001b[39m \u001b[38;5;28;43minput\u001b[39;49m\u001b[43m(\u001b[49m\u001b[38;5;124;43mf\u001b[39;49m\u001b[38;5;124;43m'\u001b[39;49m\u001b[38;5;132;43;01m{\u001b[39;49;00m\u001b[43mi\u001b[49m\u001b[38;5;132;43;01m}\u001b[39;49;00m\u001b[38;5;124;43m : What is the extracted answer : \u001b[39;49m\u001b[38;5;132;43;01m{\u001b[39;49;00m\u001b[43mrow\u001b[49m\u001b[43m[\u001b[49m\u001b[38;5;124;43m\"\u001b[39;49m\u001b[38;5;124;43mmodel_ex1\u001b[39;49m\u001b[38;5;124;43m\"\u001b[39;49m\u001b[43m]\u001b[49m\u001b[38;5;132;43;01m}\u001b[39;49;00m\u001b[38;5;124;43m'\u001b[39;49m\u001b[43m)\u001b[49m\n\u001b[1;32m      7\u001b[0m \u001b[38;5;28;01mtry\u001b[39;00m:\n\u001b[1;32m      8\u001b[0m     df\u001b[38;5;241m.\u001b[39mloc[i, \u001b[38;5;124m'\u001b[39m\u001b[38;5;124mmodel_ex1\u001b[39m\u001b[38;5;124m'\u001b[39m] \u001b[38;5;241m=\u001b[39m \u001b[38;5;28mfloat\u001b[39m(inp)\n",
      "File \u001b[0;32m~/opt/anaconda3/envs/algoverse_knodistill/lib/python3.12/site-packages/ipykernel/kernelbase.py:1282\u001b[0m, in \u001b[0;36mKernel.raw_input\u001b[0;34m(self, prompt)\u001b[0m\n\u001b[1;32m   1280\u001b[0m     msg \u001b[38;5;241m=\u001b[39m \u001b[38;5;124m\"\u001b[39m\u001b[38;5;124mraw_input was called, but this frontend does not support input requests.\u001b[39m\u001b[38;5;124m\"\u001b[39m\n\u001b[1;32m   1281\u001b[0m     \u001b[38;5;28;01mraise\u001b[39;00m StdinNotImplementedError(msg)\n\u001b[0;32m-> 1282\u001b[0m \u001b[38;5;28;01mreturn\u001b[39;00m \u001b[38;5;28;43mself\u001b[39;49m\u001b[38;5;241;43m.\u001b[39;49m\u001b[43m_input_request\u001b[49m\u001b[43m(\u001b[49m\n\u001b[1;32m   1283\u001b[0m \u001b[43m    \u001b[49m\u001b[38;5;28;43mstr\u001b[39;49m\u001b[43m(\u001b[49m\u001b[43mprompt\u001b[49m\u001b[43m)\u001b[49m\u001b[43m,\u001b[49m\n\u001b[1;32m   1284\u001b[0m \u001b[43m    \u001b[49m\u001b[38;5;28;43mself\u001b[39;49m\u001b[38;5;241;43m.\u001b[39;49m\u001b[43m_parent_ident\u001b[49m\u001b[43m[\u001b[49m\u001b[38;5;124;43m\"\u001b[39;49m\u001b[38;5;124;43mshell\u001b[39;49m\u001b[38;5;124;43m\"\u001b[39;49m\u001b[43m]\u001b[49m\u001b[43m,\u001b[49m\n\u001b[1;32m   1285\u001b[0m \u001b[43m    \u001b[49m\u001b[38;5;28;43mself\u001b[39;49m\u001b[38;5;241;43m.\u001b[39;49m\u001b[43mget_parent\u001b[49m\u001b[43m(\u001b[49m\u001b[38;5;124;43m\"\u001b[39;49m\u001b[38;5;124;43mshell\u001b[39;49m\u001b[38;5;124;43m\"\u001b[39;49m\u001b[43m)\u001b[49m\u001b[43m,\u001b[49m\n\u001b[1;32m   1286\u001b[0m \u001b[43m    \u001b[49m\u001b[43mpassword\u001b[49m\u001b[38;5;241;43m=\u001b[39;49m\u001b[38;5;28;43;01mFalse\u001b[39;49;00m\u001b[43m,\u001b[49m\n\u001b[1;32m   1287\u001b[0m \u001b[43m\u001b[49m\u001b[43m)\u001b[49m\n",
      "File \u001b[0;32m~/opt/anaconda3/envs/algoverse_knodistill/lib/python3.12/site-packages/ipykernel/kernelbase.py:1325\u001b[0m, in \u001b[0;36mKernel._input_request\u001b[0;34m(self, prompt, ident, parent, password)\u001b[0m\n\u001b[1;32m   1322\u001b[0m \u001b[38;5;28;01mexcept\u001b[39;00m \u001b[38;5;167;01mKeyboardInterrupt\u001b[39;00m:\n\u001b[1;32m   1323\u001b[0m     \u001b[38;5;66;03m# re-raise KeyboardInterrupt, to truncate traceback\u001b[39;00m\n\u001b[1;32m   1324\u001b[0m     msg \u001b[38;5;241m=\u001b[39m \u001b[38;5;124m\"\u001b[39m\u001b[38;5;124mInterrupted by user\u001b[39m\u001b[38;5;124m\"\u001b[39m\n\u001b[0;32m-> 1325\u001b[0m     \u001b[38;5;28;01mraise\u001b[39;00m \u001b[38;5;167;01mKeyboardInterrupt\u001b[39;00m(msg) \u001b[38;5;28;01mfrom\u001b[39;00m \u001b[38;5;28;01mNone\u001b[39;00m\n\u001b[1;32m   1326\u001b[0m \u001b[38;5;28;01mexcept\u001b[39;00m \u001b[38;5;167;01mException\u001b[39;00m:\n\u001b[1;32m   1327\u001b[0m     \u001b[38;5;28mself\u001b[39m\u001b[38;5;241m.\u001b[39mlog\u001b[38;5;241m.\u001b[39mwarning(\u001b[38;5;124m\"\u001b[39m\u001b[38;5;124mInvalid Message:\u001b[39m\u001b[38;5;124m\"\u001b[39m, exc_info\u001b[38;5;241m=\u001b[39m\u001b[38;5;28;01mTrue\u001b[39;00m)\n",
      "\u001b[0;31mKeyboardInterrupt\u001b[0m: Interrupted by user"
     ]
    }
   ],
   "source": [
    "for i, row in df[df['model_ex1_t'] != float].iterrows():\n",
    "    print(f'Model Answer: {row['model_ex1']}')\n",
    "    print(f'True Answer: {row['answer']}')\n",
    "    print(f'Question: {row['question']}')\n",
    "    print()\n",
    "    inp = input(f'{i} : What is the extracted answer : {row[\"model_ex1\"]}')\n",
    "    try:\n",
    "        df.loc[i, 'model_ex1'] = float(inp)\n",
    "    except:\n",
    "        print(f'{i} could not be parsed')\n",
    "    df.loc[i, 'model_ex1_t'] = type(row['model_ex1'])\n",
    "    "
   ]
  },
  {
   "cell_type": "code",
   "execution_count": 16,
   "metadata": {},
   "outputs": [],
   "source": [
    "df['correct'] = df['model_ex1'] == df['extracted_answer']"
   ]
  },
  {
   "cell_type": "code",
   "execution_count": 17,
   "metadata": {},
   "outputs": [
    {
     "data": {
      "text/plain": [
       "correct\n",
       "False    1240\n",
       "True       79\n",
       "Name: count, dtype: int64"
      ]
     },
     "execution_count": 17,
     "metadata": {},
     "output_type": "execute_result"
    }
   ],
   "source": [
    "df['correct'].value_counts()"
   ]
  },
  {
   "cell_type": "code",
   "execution_count": 23,
   "metadata": {},
   "outputs": [],
   "source": [
    "save_df(df, 'gemma2-2b-it', 'no-distil-test', 'EX1_RESULTS')"
   ]
  }
 ],
 "metadata": {
  "kernelspec": {
   "display_name": "algoverse_knodistill",
   "language": "python",
   "name": "python3"
  },
  "language_info": {
   "codemirror_mode": {
    "name": "ipython",
    "version": 3
   },
   "file_extension": ".py",
   "mimetype": "text/x-python",
   "name": "python",
   "nbconvert_exporter": "python",
   "pygments_lexer": "ipython3",
   "version": "3.12.4"
  }
 },
 "nbformat": 4,
 "nbformat_minor": 2
}
