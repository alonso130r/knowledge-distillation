{
 "cells": [
  {
   "cell_type": "code",
   "execution_count": 1,
   "metadata": {},
   "outputs": [],
   "source": [
    "import pandas as pd\n",
    "from pathlib import Path"
   ]
  },
  {
   "cell_type": "code",
   "execution_count": 2,
   "metadata": {},
   "outputs": [],
   "source": [
    "model = 'gemma2-2b'\n",
    "dist_folder = 'no-distil-test'\n",
    "filename = 'FINAL_Completed(0 - 1319).csv'"
   ]
  },
  {
   "cell_type": "code",
   "execution_count": 3,
   "metadata": {},
   "outputs": [],
   "source": [
    "basepath = (Path() / '..' /'..'/ 'logs' / model / dist_folder).resolve()"
   ]
  },
  {
   "cell_type": "code",
   "execution_count": 4,
   "metadata": {},
   "outputs": [],
   "source": [
    "df = pd.read_csv(basepath / filename)"
   ]
  },
  {
   "cell_type": "code",
   "execution_count": 7,
   "metadata": {},
   "outputs": [],
   "source": [
    "ex_df = pd.read_csv((Path() / '..' / '..' / 'logs' / 'gemma2b-it' / dist_folder / 'FINAL_RESULTS.csv').resolve())"
   ]
  },
  {
   "cell_type": "code",
   "execution_count": 9,
   "metadata": {},
   "outputs": [],
   "source": [
    "df['extracted_answer'] = ex_df['extracted_answer']"
   ]
  },
  {
   "cell_type": "code",
   "execution_count": 10,
   "metadata": {},
   "outputs": [],
   "source": [
    "for i, row in df.iterrows():\n",
    "    df.loc[i, 'model_answer'] = row['model_answer'].removeprefix(row['question'])\n",
    "    df.loc[i, 'model_answer'] = df.loc[i, 'model_answer'].removeprefix('\\n Please respond with just the answer. The answer is: ')\n",
    "    # df.loc[i, 'extracted_answer'] = row['answer'].split('####')[1].strip()"
   ]
  },
  {
   "cell_type": "code",
   "execution_count": 59,
   "metadata": {},
   "outputs": [],
   "source": [
    "import re\n",
    "df['model_ex1'] = df['model_answer']\n",
    "for i, row in df.iterrows():\n",
    "    extr = re.findall(r'[-+]?[$]?([,\\d]+\\.?[,\\d]*)\\%?(\\ |$|\\n){1}', row['model_answer'])\n",
    "    if len(extr) != 1:  \n",
    "        df.loc[i, 'model_ex1_t'] = type(df['model_ex1'][i])\n",
    "        continue\n",
    "    v = re.sub(r',', '', extr[0][0])\n",
    "    try:\n",
    "        df.loc[i, 'model_ex1'] = float(v)\n",
    "    except:\n",
    "        df.loc[i, 'model_ex1'] = v\n",
    "    df.loc[i, 'model_ex1_t'] = type(df['model_ex1'][i])"
   ]
  },
  {
   "cell_type": "code",
   "execution_count": 60,
   "metadata": {},
   "outputs": [
    {
     "data": {
      "text/plain": [
       "model_ex1_t\n",
       "<class 'float'>    1218\n",
       "<class 'str'>       101\n",
       "Name: count, dtype: int64"
      ]
     },
     "execution_count": 60,
     "metadata": {},
     "output_type": "execute_result"
    }
   ],
   "source": [
    "df['model_ex1_t'].value_counts()"
   ]
  },
  {
   "cell_type": "code",
   "execution_count": 61,
   "metadata": {},
   "outputs": [],
   "source": [
    "def save_df(df : pd.DataFrame, model : str, dist_folder : str, edition : str):\n",
    "    base_path = Path()\n",
    "    base_path = base_path / '..' /'..'/ 'logs' / model / dist_folder / f'{edition}.csv'\n",
    "    df.to_csv(base_path)"
   ]
  },
  {
   "cell_type": "code",
   "execution_count": 63,
   "metadata": {},
   "outputs": [],
   "source": [
    "df_false = df[df['model_ex1_t'] == str]\n",
    "df_false['model_ex1'].head(10)"
   ]
  },
  {
   "cell_type": "code",
   "execution_count": 78,
   "metadata": {},
   "outputs": [
    {
     "name": "stdout",
     "output_type": "stream",
     "text": [
      "212 could not be parsed\n",
      "509 could not be parsed\n",
      "524 could not be parsed\n",
      "753 could not be parsed\n",
      "906 could not be parsed\n",
      "1017 could not be parsed\n",
      "1153 could not be parsed\n"
     ]
    }
   ],
   "source": [
    "\n",
    "for i, row in df[df['model_ex1_t'] != float].iterrows():\n",
    "    inp = input(f'{i} : What is the extracted answer : {row[\"model_ex1\"]}')\n",
    "    try:\n",
    "        df.loc[i, 'model_ex1'] = float(inp)\n",
    "    except:\n",
    "        print(f'{i} could not be parsed')"
   ]
  },
  {
   "cell_type": "code",
   "execution_count": 80,
   "metadata": {},
   "outputs": [],
   "source": [
    "for i, row in df.iterrows():\n",
    "    df.loc[i, 'model_ex1_t'] = type(row['model_ex1'])\n"
   ]
  },
  {
   "cell_type": "code",
   "execution_count": null,
   "metadata": {},
   "outputs": [],
   "source": [
    "for i, row in df[df['model_ex1_t'] != float].iterrows():\n",
    "    print(f'Model Answer: {row['model_ex1']}')\n",
    "    print(f'True Answer: {row['answer']}')\n",
    "    print(f'Question: {row['question']}')\n",
    "    print()\n",
    "    inp = input(f'{i} : What is the extracted answer : {row[\"model_ex1\"]}')\n",
    "    try:\n",
    "        df.loc[i, 'model_ex1'] = float(inp)\n",
    "    except:\n",
    "        print(f'{i} could not be parsed')\n",
    "    df.loc[i, 'model_ex1_t'] = type(row['model_ex1'])\n",
    "    "
   ]
  },
  {
   "cell_type": "code",
   "execution_count": 85,
   "metadata": {},
   "outputs": [],
   "source": [
    "df['correct'] = df['model_ex1'] == df['extracted_answer']"
   ]
  },
  {
   "cell_type": "code",
   "execution_count": 86,
   "metadata": {},
   "outputs": [
    {
     "data": {
      "text/plain": [
       "correct\n",
       "False    1248\n",
       "True       71\n",
       "Name: count, dtype: int64"
      ]
     },
     "execution_count": 86,
     "metadata": {},
     "output_type": "execute_result"
    }
   ],
   "source": [
    "df['correct'].value_counts()"
   ]
  },
  {
   "cell_type": "code",
   "execution_count": 88,
   "metadata": {},
   "outputs": [],
   "source": [
    "save_df(df, 'gemma2-2b', 'no-distil-test', 'FINAL_RESULTS')"
   ]
  }
 ],
 "metadata": {
  "kernelspec": {
   "display_name": "algoverse_knodistill",
   "language": "python",
   "name": "python3"
  },
  "language_info": {
   "codemirror_mode": {
    "name": "ipython",
    "version": 3
   },
   "file_extension": ".py",
   "mimetype": "text/x-python",
   "name": "python",
   "nbconvert_exporter": "python",
   "pygments_lexer": "ipython3",
   "version": "3.12.4"
  }
 },
 "nbformat": 4,
 "nbformat_minor": 2
}
