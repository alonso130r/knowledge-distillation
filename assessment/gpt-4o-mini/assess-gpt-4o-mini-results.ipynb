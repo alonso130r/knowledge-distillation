{
 "cells": [
  {
   "cell_type": "code",
   "execution_count": 1,
   "metadata": {},
   "outputs": [],
   "source": [
    "import pandas as pd\n",
    "from pathlib import Path\n",
    "import jsonlines"
   ]
  },
  {
   "cell_type": "code",
   "execution_count": 2,
   "metadata": {},
   "outputs": [],
   "source": [
    "model = 'gpt-4o-mini'\n",
    "dist_folder = 'no-distil-test'\n",
    "filename = 'batch_gpt4omini_init_assessment-gpt4o-mini-distill_fWzHuiddTOgVL0jUnIhIGsEQ_output_.jsonl'\n",
    "# batch_gpt4omini_init_assessment-gpt4o-mini-distill_fWzHuiddTOgVL0jUnIhIGsEQ_output_\n"
   ]
  },
  {
   "cell_type": "code",
   "execution_count": 3,
   "metadata": {},
   "outputs": [],
   "source": [
    "basepath = (Path() / '..' /'..'/ 'logs' / model / dist_folder).resolve()"
   ]
  },
  {
   "cell_type": "code",
   "execution_count": 14,
   "metadata": {},
   "outputs": [],
   "source": [
    "df = pd.read_csv(basepath / 'prompts.csv')"
   ]
  },
  {
   "cell_type": "code",
   "execution_count": 15,
   "metadata": {},
   "outputs": [],
   "source": [
    "df['model_answer'] = ''\n",
    "with jsonlines.open(basepath / filename) as reader:\n",
    "    for obj in reader:\n",
    "        i = int(obj['custom_id'].removeprefix('init_assessment-gpt4o-mini-distill_'))\n",
    "        df.loc[i, 'model_answer'] = obj['response']['body']['choices'][0]['message']['content']"
   ]
  },
  {
   "cell_type": "code",
   "execution_count": 16,
   "metadata": {},
   "outputs": [
    {
     "data": {
      "text/plain": [
       "'540 meters.'"
      ]
     },
     "execution_count": 16,
     "metadata": {},
     "output_type": "execute_result"
    }
   ],
   "source": [
    "df['model_answer'][3]"
   ]
  },
  {
   "cell_type": "code",
   "execution_count": 22,
   "metadata": {},
   "outputs": [
    {
     "name": "stdout",
     "output_type": "stream",
     "text": [
      "Empty string: 0\n",
      "Dollar: 361\n",
      "Space: 880\n",
      "Percent: 13\n",
      "No extraction: 65\n"
     ]
    },
    {
     "data": {
      "text/plain": [
       "[37, 66, 127, 136, 165, 193, 233, 253, 263, 269]"
      ]
     },
     "execution_count": 22,
     "metadata": {},
     "output_type": "execute_result"
    }
   ],
   "source": [
    "dol = 0\n",
    "spac = 0\n",
    "noex = 0\n",
    "noans = 0\n",
    "perc = 0\n",
    "ids = []\n",
    "for i, a in df['model_answer'].items():\n",
    "    if not a:\n",
    "        noans += 1\n",
    "    elif '$' in a.lower():\n",
    "        dol += 1\n",
    "    elif ' ' in a.lower():\n",
    "        spac += 1\n",
    "    elif '%' in a:\n",
    "        perc += 1\n",
    "    else:\n",
    "        noex += 1\n",
    "        ids.append(i)\n",
    "\n",
    "print(f'Empty string: {noans}')\n",
    "print(f'Dollar: {dol}')\n",
    "print(f'Space: {spac}')\n",
    "print(f'Percent: {perc}')\n",
    "print(f'No extraction: {noex}')\n",
    "ids[:10]"
   ]
  },
  {
   "cell_type": "code",
   "execution_count": 65,
   "metadata": {},
   "outputs": [],
   "source": [
    "df['model_ex1'] = df['model_answer']\n",
    "for i,row in df.iterrows():\n",
    "    if '$' in row['model_answer']:\n",
    "        df.loc[i, 'model_ex1'] = row['model_answer'].replace('$', '')\n",
    "    if '%' in df['model_ex1'][i]:\n",
    "        df.loc[i, 'model_ex1'] = df['model_ex1'][i].replace('%','')\n",
    "    if ',' in df['model_ex1'][i]:\n",
    "        df.loc[i, 'model_ex1'] = df['model_ex1'][i].replace(',','')\n",
    "    if ' ' in df['model_ex1'][i]:\n",
    "        vls = df['model_ex1'][i].split(' ')\n",
    "        vs = []\n",
    "        for v in vls:\n",
    "            try:\n",
    "                vs.append(float(v))\n",
    "                continue\n",
    "            except:\n",
    "                pass\n",
    "        if len(vs) == 1:\n",
    "            df.loc[i, 'model_ex1'] = vs[0]\n",
    "        \n",
    "    else:\n",
    "        try:\n",
    "            df.loc[i, 'model_ex1'] = float(df['model_ex1'][i])\n",
    "        except:\n",
    "            df.loc[i, 'model_ex1'] = df['model_ex1'][i]\n",
    "    df.loc[i, 'model_ex1_t'] = type(df['model_ex1'][i])\n",
    "\n"
   ]
  },
  {
   "cell_type": "code",
   "execution_count": 60,
   "metadata": {},
   "outputs": [],
   "source": [
    "def save_df(df : pd.DataFrame, model : str, dist_folder : str, edition : str):\n",
    "    base_path = Path()\n",
    "    base_path = base_path / '..' / 'logs' / model / dist_folder / f'{edition}.csv'\n",
    "    df.to_csv(base_path)"
   ]
  },
  {
   "cell_type": "code",
   "execution_count": 66,
   "metadata": {},
   "outputs": [],
   "source": [
    "\n",
    "for i, row in df[df['model_ex1_t'] != float].iterrows():\n",
    "    inp = input(f'{i} : What is the extracted answer : {row[\"model_ex1\"]}.     True: {row['extracted_answer']}. Question: {row['question']}')\n",
    "    try:\n",
    "        df.loc[i, 'model_ex1'] = float(inp)\n",
    "    except:\n",
    "        print(f'{i} could not be parsed')\n"
   ]
  },
  {
   "cell_type": "code",
   "execution_count": 67,
   "metadata": {},
   "outputs": [],
   "source": [
    "for i, row in df.iterrows():\n",
    "    df.loc[i, 'model_ex1_t'] = type(df['model_ex1'][i])\n",
    "    "
   ]
  },
  {
   "cell_type": "code",
   "execution_count": 69,
   "metadata": {},
   "outputs": [],
   "source": [
    "df['correct'] = df['model_ex1'] == df['extracted_answer']"
   ]
  },
  {
   "cell_type": "code",
   "execution_count": 70,
   "metadata": {},
   "outputs": [
    {
     "data": {
      "text/plain": [
       "correct\n",
       "False    925\n",
       "True     394\n",
       "Name: count, dtype: int64"
      ]
     },
     "execution_count": 70,
     "metadata": {},
     "output_type": "execute_result"
    }
   ],
   "source": [
    "df['correct'].value_counts()"
   ]
  },
  {
   "cell_type": "code",
   "execution_count": 58,
   "metadata": {},
   "outputs": [
    {
     "name": "stdout",
     "output_type": "stream",
     "text": [
      "TRUE: 70000.0, MODEL: $50,000.\n",
      "TRUE: 20.0, MODEL: Wendi needs to give her chickens 30 cups of feed in the final meal of the day.\n",
      "TRUE: 64.0, MODEL: $82.00\n",
      "TRUE: 260.0, MODEL: Toulouse, Charleston, and Seattle have a total of 96 sheep.\n",
      "TRUE: 160.0, MODEL: The answer is: 220 minutes.\n",
      "TRUE: 45.0, MODEL: He is 80 miles from home at the end of those 4 hours.\n",
      "TRUE: 366.0, MODEL: 120 downloads.\n",
      "TRUE: 694.0, MODEL: The total cost was $1,124.\n",
      "TRUE: 13.0, MODEL: 5 years.\n",
      "TRUE: 18.0, MODEL: Melanie started with 21 vacuum cleaners.\n"
     ]
    }
   ],
   "source": [
    "for i, row in df[df['correct'] == False][0:10].iterrows():\n",
    "    print(f'TRUE: {row['extracted_answer']}, MODEL: {row['model_answer']}')"
   ]
  }
 ],
 "metadata": {
  "kernelspec": {
   "display_name": "algoverse_knodistill",
   "language": "python",
   "name": "python3"
  },
  "language_info": {
   "codemirror_mode": {
    "name": "ipython",
    "version": 3
   },
   "file_extension": ".py",
   "mimetype": "text/x-python",
   "name": "python",
   "nbconvert_exporter": "python",
   "pygments_lexer": "ipython3",
   "version": "3.12.4"
  }
 },
 "nbformat": 4,
 "nbformat_minor": 2
}
