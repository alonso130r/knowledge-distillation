{
 "cells": [
  {
   "cell_type": "code",
   "execution_count": 1,
   "metadata": {},
   "outputs": [],
   "source": [
    "import pandas as pd\n",
    "from pathlib import Path"
   ]
  },
  {
   "cell_type": "code",
   "execution_count": 2,
   "metadata": {},
   "outputs": [],
   "source": [
    "model = 'gemma2b'\n",
    "dist_folder = 'no-distil-test'\n",
    "filename = 'FINAL_Completed(0 : 1319).csv'"
   ]
  },
  {
   "cell_type": "code",
   "execution_count": 5,
   "metadata": {},
   "outputs": [],
   "source": [
    "basepath = (Path() / '..' /'..'/ 'logs' / model / dist_folder).resolve()"
   ]
  },
  {
   "cell_type": "code",
   "execution_count": 6,
   "metadata": {},
   "outputs": [],
   "source": [
    "df = pd.read_csv(basepath / filename)"
   ]
  },
  {
   "cell_type": "code",
   "execution_count": 7,
   "metadata": {},
   "outputs": [],
   "source": [
    "for i, row in df.iterrows():\n",
    "    df.loc[i, 'model_answer'] = row['model_answer'].removeprefix(row['question'])\n",
    "    df.loc[i, 'model_answer'] = df.loc[i, 'model_answer'].removeprefix('\\n Please respond with just the answer. The answer is: ')\n",
    "    df.loc[i, 'extracted_answer'] = row['answer'].split('####')[1].strip()"
   ]
  },
  {
   "cell_type": "markdown",
   "metadata": {},
   "source": [
    "Ideas:\n",
    "- Use equals sign and split by the last element\n",
    "- Empty answers (4, 26, 28)"
   ]
  },
  {
   "cell_type": "code",
   "execution_count": 8,
   "metadata": {},
   "outputs": [
    {
     "name": "stdout",
     "output_type": "stream",
     "text": [
      "Empty string: 0\n",
      "Answer is: 1200\n",
      "No extraction: 119\n"
     ]
    },
    {
     "data": {
      "text/plain": [
       "[6, 21, 28, 40, 51, 84, 93, 96, 150, 157]"
      ]
     },
     "execution_count": 8,
     "metadata": {},
     "output_type": "execute_result"
    }
   ],
   "source": [
    "ans = 0\n",
    "tfor = 0\n",
    "eqs = 0\n",
    "noex = 0\n",
    "noans = 0\n",
    "ids = []\n",
    "for i, a in df['model_answer'].items():\n",
    "    if not a:\n",
    "        noans += 1\n",
    "    elif '\\n\\n' in a.lower():\n",
    "        ans += 1\n",
    "    else:\n",
    "        noex += 1\n",
    "        ids.append(i)\n",
    "\n",
    "print(f'Empty string: {noans}')\n",
    "print(f'Answer is: {ans}')\n",
    "# print(f'Therefore: {tfor}')\n",
    "# print(f'Equals: {eqs}')\n",
    "print(f'No extraction: {noex}')\n",
    "ids[:10]"
   ]
  },
  {
   "cell_type": "code",
   "execution_count": 11,
   "metadata": {},
   "outputs": [],
   "source": [
    "def save_df(df : pd.DataFrame, model : str, dist_folder : str, edition : str):\n",
    "    base_path = Path()\n",
    "    base_path = base_path / '..' /'..'/ 'logs' / model / dist_folder / f'{edition}.csv'\n",
    "    df.to_csv(base_path)"
   ]
  },
  {
   "cell_type": "code",
   "execution_count": 12,
   "metadata": {},
   "outputs": [],
   "source": [
    "df['model_ex1'] = ''\n",
    "start = 0\n",
    "c = 0\n",
    "for i, row in df[start:].iterrows():\n",
    "    try:\n",
    "        df.loc[i, 'model_ex1'] = row['model_answer'].split('\\n\\n')[0]\n",
    "    except:\n",
    "        df.loc[i, 'model_ex1'] = row['model_answer']\n",
    "save_df(df, 'gemma2b', 'no-distil-test', 'extract_1')\n",
    "    "
   ]
  },
  {
   "cell_type": "code",
   "execution_count": null,
   "metadata": {},
   "outputs": [],
   "source": []
  },
  {
   "cell_type": "code",
   "execution_count": 13,
   "metadata": {},
   "outputs": [],
   "source": [
    "df['model_ex1_complete'] = df['model_ex1']\n",
    "df['model_ex1_complete'] = df['model_ex1_complete'].map(lambda x : x.isnumeric())"
   ]
  },
  {
   "cell_type": "code",
   "execution_count": 14,
   "metadata": {},
   "outputs": [],
   "source": [
    "df_false = df[df['model_ex1_complete'] == False]"
   ]
  },
  {
   "cell_type": "code",
   "execution_count": 15,
   "metadata": {},
   "outputs": [
    {
     "name": "stdout",
     "output_type": "stream",
     "text": [
      "$$$ : 365\n",
      "% : 19\n",
      "Space : 196\n",
      "N/A : 31\n",
      "[23, 43, 66, 88, 133, 136, 165, 193, 328, 337]\n"
     ]
    }
   ],
   "source": [
    "dol = 0\n",
    "perc = 0\n",
    "spac = 0\n",
    "no = 0\n",
    "\n",
    "id_nos = []\n",
    "for i, val in df_false['model_ex1'].items():\n",
    "    if '$' in val:\n",
    "        dol += 1\n",
    "    elif '%' in val:\n",
    "        perc += 1\n",
    "    elif ' ' in val:\n",
    "        spac += 1\n",
    "    else:\n",
    "        no += 1\n",
    "        id_nos.append(i)\n",
    "    \n",
    "\n",
    "print(f'$$$ : {dol}')\n",
    "print(f'% : {perc}')\n",
    "print(f'Space : {spac}')\n",
    "print(f'N/A : {no}')\n",
    "print(id_nos[:10])"
   ]
  },
  {
   "cell_type": "code",
   "execution_count": 16,
   "metadata": {},
   "outputs": [],
   "source": [
    "df['model_ex2'] = df['model_ex1']\n",
    "for i, row in df[df['model_ex1_complete'] == False].iterrows():\n",
    "    if '$' in row['model_ex1']:\n",
    "        df.loc[i, 'model_ex2'] = row['model_ex1'].removeprefix('$')\n",
    "        if df['model_ex2'][i].isnumeric():\n",
    "            continue\n",
    "    if ' ' in row['model_ex1']:\n",
    "        vls = row['model_ex1'].split(' ')\n",
    "        v = ''\n",
    "        for vs in vls:\n",
    "            try:\n",
    "                v = float(vs)      \n",
    "                df.loc[i, 'model_ex2'] = v \n",
    "            except:\n",
    "                continue\n",
    "        if v == '':\n",
    "            df.loc[i, 'model_ex2'] = row['model_ex1'] "
   ]
  },
  {
   "cell_type": "code",
   "execution_count": 17,
   "metadata": {},
   "outputs": [],
   "source": [
    "for i, row in df.iterrows():\n",
    "    try:\n",
    "        df.loc[i, 'model_ex2'] = float(row['model_ex2'])\n",
    "\n",
    "    except:\n",
    "        pass\n",
    "    try:\n",
    "        df.loc[i, 'extracted_answer'] = float(row['extracted_answer'])\n",
    "    except:\n",
    "        pass\n",
    "    df.loc[i, 'model_ex2_t'] = type(df['model_ex2'][i])\n",
    "    df.loc[i, 'extracted_answer_t'] = type(df['extracted_answer'][i])"
   ]
  },
  {
   "cell_type": "code",
   "execution_count": 18,
   "metadata": {},
   "outputs": [
    {
     "data": {
      "text/plain": [
       "extracted_answer_t\n",
       "<class 'float'>    1305\n",
       "<class 'str'>        14\n",
       "Name: count, dtype: int64"
      ]
     },
     "execution_count": 18,
     "metadata": {},
     "output_type": "execute_result"
    }
   ],
   "source": [
    "df['extracted_answer_t'].value_counts()"
   ]
  },
  {
   "cell_type": "code",
   "execution_count": 19,
   "metadata": {},
   "outputs": [],
   "source": [
    "\n",
    "for i, row in df[df['model_ex2_t'] != float].iterrows():\n",
    "    inp = input(f'{i} : What is the extracted answer : {row[\"model_ex2\"]}')\n",
    "    try:\n",
    "        df.loc[i, 'model_ex2'] = float(inp)\n",
    "    except:\n",
    "        print(f'{i} could not be parsed')\n"
   ]
  },
  {
   "cell_type": "code",
   "execution_count": 20,
   "metadata": {},
   "outputs": [],
   "source": [
    "\n",
    "for i, row in df[df['extracted_answer_t'] != float].iterrows():\n",
    "    inp = input(f'{i} : What is the extracted answer : {row[\"extracted_answer\"]}')\n",
    "    try:\n",
    "        df.loc[i, 'extracted_answer'] = float(inp)\n",
    "    except:\n",
    "        print(f'{i} could not be parsed')\n"
   ]
  },
  {
   "cell_type": "code",
   "execution_count": 21,
   "metadata": {},
   "outputs": [],
   "source": [
    "for i, row in df.iterrows():\n",
    "    df.loc[i, 'model_ex2_t'] = type(df['model_ex2'][i])\n",
    "    df.loc[i, 'extracted_answer_t'] = type(df['extracted_answer'][i])\n",
    "    "
   ]
  },
  {
   "cell_type": "code",
   "execution_count": 24,
   "metadata": {},
   "outputs": [],
   "source": [
    "df['correct'] = df['model_ex2'] == df['extracted_answer']"
   ]
  },
  {
   "cell_type": "code",
   "execution_count": 25,
   "metadata": {},
   "outputs": [
    {
     "data": {
      "text/plain": [
       "correct\n",
       "False    1256\n",
       "True       63\n",
       "Name: count, dtype: int64"
      ]
     },
     "execution_count": 25,
     "metadata": {},
     "output_type": "execute_result"
    }
   ],
   "source": [
    "df['correct'].value_counts()"
   ]
  },
  {
   "cell_type": "code",
   "execution_count": 26,
   "metadata": {},
   "outputs": [],
   "source": [
    "save_df(df, 'gemma2b', 'no-distil-test', 'FINAL_RESULTS')"
   ]
  }
 ],
 "metadata": {
  "kernelspec": {
   "display_name": "algoverse_knodistill",
   "language": "python",
   "name": "python3"
  },
  "language_info": {
   "codemirror_mode": {
    "name": "ipython",
    "version": 3
   },
   "file_extension": ".py",
   "mimetype": "text/x-python",
   "name": "python",
   "nbconvert_exporter": "python",
   "pygments_lexer": "ipython3",
   "version": "3.12.4"
  }
 },
 "nbformat": 4,
 "nbformat_minor": 2
}
