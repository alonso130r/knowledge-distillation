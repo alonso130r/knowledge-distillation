{
 "cells": [
  {
   "cell_type": "code",
   "execution_count": 1,
   "metadata": {},
   "outputs": [],
   "source": [
    "import pandas as pd\n",
    "from pathlib import Path"
   ]
  },
  {
   "cell_type": "code",
   "execution_count": 3,
   "metadata": {},
   "outputs": [],
   "source": [
    "version = 'no-distil-fine-tune-raw'\n"
   ]
  },
  {
   "cell_type": "code",
   "execution_count": 4,
   "metadata": {},
   "outputs": [],
   "source": [
    "basepath = (Path() / 'logs' ).resolve()"
   ]
  },
  {
   "cell_type": "code",
   "execution_count": 5,
   "metadata": {},
   "outputs": [],
   "source": [
    "df = pd.read_csv(basepath / f'{version}.csv')\n",
    "ex_df = pd.read_csv(basepath / 'extracted_true_answers.csv')"
   ]
  },
  {
   "cell_type": "code",
   "execution_count": 7,
   "metadata": {},
   "outputs": [],
   "source": [
    "df['extracted_answer'] = ex_df['extracted_answer']"
   ]
  },
  {
   "cell_type": "code",
   "execution_count": 9,
   "metadata": {},
   "outputs": [],
   "source": [
    "for i, row in df.iterrows():\n",
    "    df.loc[i, 'model_answer'] = df['model_answer'][i].removeprefix(row['question'])\n",
    "    df.loc[i, 'model_answer'] = df['model_answer'][i].removeprefix('\\n Please respond with just the answer. The answer is:')\n",
    "    df.loc[i, 'model_answer'] = df['model_answer'][i].strip()\n"
   ]
  },
  {
   "cell_type": "code",
   "execution_count": 11,
   "metadata": {},
   "outputs": [],
   "source": [
    "import re\n",
    "df['model_ex1'] = df['model_answer']\n",
    "for i, row in df.iterrows():\n",
    "    sepstr_extr = re.findall(r'oxed{ *([,\\d]+\\.?[,\\d]*) *}', row['model_answer'])\n",
    "    first_line = row['model_answer'].split('\\n')[0]\n",
    "    mtches = re.findall(r'[-+]?[$]?([,\\d]+\\.?[,\\d]*)\\%?(\\ |$|\\n|.){1}', first_line)\n",
    "    osepstr = re.findall(r'(the ?(final|correct)* ?answer ?is)', row['model_answer'])\n",
    "    oind = row['model_answer'].find(osepstr[0][0]) if osepstr else -1\n",
    "    oextr = re.findall(r'[-+]?[$]?([,\\d]+\\.?[,\\d]*)\\%?(\\ |$|\\n|.){1}', row['model_answer'][oind:]) if oind != -1 else []\n",
    "    if sepstr_extr:\n",
    "        v = re.sub(r',', '', sepstr_extr[0])\n",
    "    \n",
    "    elif len(mtches) == 1 or len(set([v[0] for v in mtches])) == 1:\n",
    "        v = re.sub(r',', '', mtches[0][0])\n",
    "    elif oextr:\n",
    "        v = re.sub(r',', '', extr[0][0])\n",
    "    else:\n",
    "        extr = re.findall(r'[-+]?[$]?([,\\d]+\\.?[,\\d]*)\\%?(\\ |$|\\n|.){1}', row['model_answer'])\n",
    "        if len(extr) == 0:\n",
    "            df.loc[i, 'model_ex1_t'] = type(df['model_ex1'][i])\n",
    "            continue\n",
    "        v = re.sub(r',', '', extr[-1][0])\n",
    "    try:\n",
    "        df.loc[i, 'model_ex1'] = float(v)\n",
    "    except:\n",
    "        df.loc[i, 'model_ex1'] = df['model_ex1'][i]\n",
    "    df.loc[i, 'model_ex1_t'] = type(df['model_ex1'][i])"
   ]
  },
  {
   "cell_type": "code",
   "execution_count": 12,
   "metadata": {},
   "outputs": [],
   "source": [
    "df['correct'] = df['model_ex1'] == df['extracted_answer']"
   ]
  },
  {
   "cell_type": "code",
   "execution_count": 16,
   "metadata": {},
   "outputs": [
    {
     "data": {
      "text/plain": [
       "model_ex1_t\n",
       "<class 'float'>    1185\n",
       "<class 'str'>       134\n",
       "Name: count, dtype: int64"
      ]
     },
     "execution_count": 16,
     "metadata": {},
     "output_type": "execute_result"
    }
   ],
   "source": [
    "df['model_ex1_t'].value_counts()"
   ]
  },
  {
   "cell_type": "code",
   "execution_count": 18,
   "metadata": {},
   "outputs": [],
   "source": [
    "for i, row in df[df['model_ex1_t'] != float].iterrows():\n",
    "    inp = input(f'{i} : What is the extracted answer : {row[\"model_ex1\"]}. \\n \\n Question: {row['question']}')\n",
    "    \n",
    "    try:\n",
    "        df.loc[i, 'model_ex1'] = float(inp)\n",
    "    except:\n",
    "        if inp == 'no':\n",
    "            break\n",
    "        print(f'{i} could not be parsed')"
   ]
  },
  {
   "cell_type": "code",
   "execution_count": 19,
   "metadata": {},
   "outputs": [],
   "source": [
    "for i, row in df.iterrows():\n",
    "    df.loc[i, 'model_ex1_t'] = type(row['model_ex1'])\n"
   ]
  },
  {
   "cell_type": "code",
   "execution_count": 21,
   "metadata": {},
   "outputs": [],
   "source": [
    "df['correct'] = df['model_ex1'] == df['extracted_answer']"
   ]
  },
  {
   "cell_type": "code",
   "execution_count": null,
   "metadata": {},
   "outputs": [],
   "source": [
    "df['correct'].value_counts()"
   ]
  },
  {
   "cell_type": "code",
   "execution_count": null,
   "metadata": {},
   "outputs": [],
   "source": [
    "df.to_csv(basepath / f'{version.removesuffix('-raw')}.csv')"
   ]
  }
 ],
 "metadata": {
  "kernelspec": {
   "display_name": "algoverse_knodistill",
   "language": "python",
   "name": "python3"
  },
  "language_info": {
   "codemirror_mode": {
    "name": "ipython",
    "version": 3
   },
   "file_extension": ".py",
   "mimetype": "text/x-python",
   "name": "python",
   "nbconvert_exporter": "python",
   "pygments_lexer": "ipython3",
   "version": "3.12.4"
  }
 },
 "nbformat": 4,
 "nbformat_minor": 2
}
